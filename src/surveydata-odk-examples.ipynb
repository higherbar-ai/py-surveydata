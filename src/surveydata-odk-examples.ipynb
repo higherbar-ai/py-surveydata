{
 "cells": [
  {
   "cell_type": "markdown",
   "source": [
    "# Using the surveydata package with ODK Central\n",
    "\n",
    "This workbook demonstrates how to use the `surveydata` Python package to work with [ODK Central](https://docs.getodk.org/central-intro/) data. It demonstrates four different approaches to storage:\n",
    "\n",
    "1. Use of local data exported by [ODK Central](https://docs.getodk.org/central-intro/)\n",
    "2. Synchronizing data directly from ODK into the local file system\n",
    "3. Synchronizing data directly from ODK into [AWS S3 storage](https://aws.amazon.com/s3/), including attachments\n",
    "4. Synchronizing data directly from ODK into [AWS DynamoDB storage](https://aws.amazon.com/dynamodb/), with attachments saved to AWS S3\n",
    "5. Synchronizing data directly from ODK into [Google Cloud Storage](https://cloud.google.com/storage), including attachments\n",
    "6. Synchronizing data directly from ODK into [Azure Blob Storage](https://azure.microsoft.com/en-us/products/storage/blobs/), including attachments\n",
    "\n",
    "All examples other than the local data export include code to save and reload Pandas DataFrames, for cases where data ingestion and processing is separated from actual analysis or use.\n",
    "\n",
    "## Reading credentials and configuration\n",
    "\n",
    "This example workbook begins by loading cloud storage configuration and credentials from an `.ini` file stored in `~/.ocl/surveydata-odk-examples.ini`. The `~` in the path refers to the current user's home directory, and the `.ini` file contents are as follows:\n",
    "\n",
    "    [aws]\n",
    "    accesskeyid=idhere\n",
    "    accesskeysecret=secrethere\n",
    "    s3bucketname=bucketnamehere\n",
    "    region=regionnamehere\n",
    "    ddbtablename=tablenamehere\n",
    "\n",
    "    [google]\n",
    "    googleprojectid=idhere\n",
    "    googlebucketname=bucketnamehere\n",
    "\n",
    "    [azure]\n",
    "    azureconnectionstring=connectionstringhere\n",
    "    azurecontainername=oclexamples\n",
    "    azureaccounturl=https://storageaccountname.blob.core.windows.net\n",
    "\n",
    "Feel free to update the path in `inifile_location` below, and only include properties as needed for the example cases you wish to execute.\n",
    "\n",
    "The ODK Central credentials are likewise loaded from `~/.ocl/.pyodk_config.toml`, which looks like this:\n",
    "\n",
    "    [central]\n",
    "    base_url = \"https://yourserver.domain.com\"\n",
    "    username = \"username_with_access\"\n",
    "    password = \"password\"\n",
    "    default_project_id = default_project_id_number\n",
    "\n",
    "Finally, for Google Cloud authentication, service account credentials are loaded from `~/.ocl/google-ocl-examples-service-account-credentials.json`, which can be saved directly from the Google Cloud Storage console."
   ],
   "metadata": {
    "collapsed": false
   }
  },
  {
   "cell_type": "code",
   "execution_count": 1,
   "metadata": {
    "collapsed": true
   },
   "outputs": [],
   "source": [
    "# for convenience, auto-reload modules when they've changed\n",
    "%load_ext autoreload\n",
    "%autoreload 2\n",
    "\n",
    "import configparser\n",
    "import os\n",
    "\n",
    "# manually initialize ODK parameters\n",
    "project_id = 1\n",
    "form_id = \"all_fields_for_testing\"\n",
    "\n",
    "# load credentials and other configuration from a local ini file\n",
    "inifile_location = os.path.expanduser(\"~/.ocl/surveydata-odk-examples.ini\")\n",
    "inifile = configparser.RawConfigParser()\n",
    "inifile.read(inifile_location)\n",
    "\n",
    "# load AWS credentials and configuration\n",
    "aws_accesskey_id = inifile.get(\"aws\", \"accesskeyid\")\n",
    "aws_accesskey_secret = inifile.get(\"aws\", \"accesskeysecret\")\n",
    "s3_bucketname = inifile.get(\"aws\", \"s3bucketname\")\n",
    "aws_region = inifile.get(\"aws\", \"region\")\n",
    "ddb_tablename = inifile.get(\"aws\", \"ddbtablename\")\n",
    "\n",
    "# load Google Cloud Storage credentials and configuration\n",
    "from google.oauth2 import service_account\n",
    "google_project_id = inifile.get(\"google\", \"googleprojectid\")\n",
    "google_bucket_name = inifile.get(\"google\", \"googlebucketname\")\n",
    "\n",
    "google_credentials = service_account.Credentials.from_service_account_file(os.path.expanduser(\"~/.ocl/google-ocl-examples-service-account-credentials.json\"))\n",
    "\n",
    "# load Azure Blob Storage credentials and configuration\n",
    "azure_connection_string = inifile.get(\"azure\", \"azureconnectionstring\")\n",
    "azure_container_name = inifile.get(\"azure\", \"azurecontainername\")\n",
    "azure_account_url = inifile.get(\"azure\", \"azureaccounturl\")"
   ]
  },
  {
   "cell_type": "markdown",
   "source": [
    "## Loading data from ODK Central export\n",
    "\n",
    "First, we'll take the simplest case: an *All data and Attachments* export from ODK Central, which has been downloaded and unzipped into a local directory (here, with the primary export file in `~/Exports/ODK/all_fields_for_testing/all_fields_for_testing.csv`). The `surveydata` package makes it easy to load all submissions into a Pandas DataFrame.\n",
    "\n",
    "This example doesn't utilize any external services or require any credentials, so it doesn't use anything loaded from the `.ini` file above. It loads all `.csv` files present in the specified directory, and it presumes that the `media` subdirectory is also present with all attachments."
   ],
   "metadata": {
    "collapsed": false
   }
  },
  {
   "cell_type": "code",
   "execution_count": 2,
   "outputs": [
    {
     "name": "stdout",
     "output_type": "stream",
     "text": [
      "Submissions in storage: ['uuid:0d70b386-59f7-488e-ab43-fb0bb934a7c8', 'uuid:6a384d76-5547-4bf0-8f50-4f5c873c83c3', 'uuid:f4a826a1-db80-48f5-97e3-de840e964d9c', 'uuid:f9374882-7671-46fa-87ec-53b516d2b37a']\n",
      "\n",
      "Attachments in storage: [{'name': '1666784762837-9_46_21.jpg', 'location_string': '1666784762837-9_46_21.jpg'}, {'name': '1666784783763-9_46_25.m4a', 'location_string': '1666784783763-9_46_25.m4a'}, {'name': 'ChrisExample_public-9_46_36.pem', 'location_string': 'ChrisExample_public-9_46_36.pem'}]\n",
      "\n",
      "Submission DataFrame field counts:\n",
      "SubmissionDate                           4\n",
      "starttime                                4\n",
      "endtime                                  4\n",
      "deviceid                                 4\n",
      "devicephonenum                           4\n",
      "username                                 4\n",
      "intronote                                4\n",
      "qtext                                    4\n",
      "qint                                     2\n",
      "qdecimal                                 1\n",
      "qgeopoint-Latitude                       1\n",
      "qgeopoint-Longitude                      1\n",
      "qgeopoint-Altitude                       1\n",
      "qgeopoint-Accuracy                       1\n",
      "qgeoshape                                4\n",
      "qgeotrace                                4\n",
      "qbarcode                                 4\n",
      "qdatetime                                1\n",
      "qdate                                    1\n",
      "qtime                                    1\n",
      "qimage                                   4\n",
      "qaudio                                   4\n",
      "qvideo                                   4\n",
      "qfile                                    4\n",
      "meta-instanceID                          4\n",
      "SubmitterID                              4\n",
      "SubmitterName                            4\n",
      "AttachmentsPresent                       4\n",
      "AttachmentsExpected                      4\n",
      "Status                                   4\n",
      "ReviewState                              4\n",
      "DeviceID                                 4\n",
      "Edits                                    4\n",
      "FormVersion                              4\n",
      "qrepeat1/0/qrepeat2/0/qyesno             2\n",
      "qrepeat1/0/qrepeat2/0/qselectmultiple    4\n",
      "qrepeat1/0/qrepeat2/1/qyesno             1\n",
      "qrepeat1/0/qrepeat2/1/qselectmultiple    1\n",
      "qrepeat1/1/qrepeat2/0/qyesno             1\n",
      "qrepeat1/1/qrepeat2/0/qselectmultiple    1\n",
      "qrepeat1/1/qrepeat2/1/qyesno             1\n",
      "qrepeat1/1/qrepeat2/1/qselectmultiple    1\n",
      "dtype: int64\n",
      "\n"
     ]
    }
   ],
   "source": [
    "# from surveydata import ODKPlatform\n",
    "from surveydata import ODKExportStorage\n",
    "from surveydata import ODKPlatform\n",
    "\n",
    "# initialize local storage with wide-format export and attachments_available=True since media subdirectory is present\n",
    "storage = ODKExportStorage(export_file=os.path.expanduser(\"~/Exports/odk/all_fields_for_testing/all_fields_for_testing.csv\"), attachments_available=True)\n",
    "\n",
    "# output details about what's present in storage\n",
    "print(f\"Submissions in storage: {storage.list_submissions()}\")\n",
    "print()\n",
    "print(f\"Attachments in storage: {storage.list_attachments()}\")\n",
    "print()\n",
    "\n",
    "# load all submissions into DataFrame and describe contents\n",
    "submissions_df = ODKPlatform.get_submissions_df(storage)\n",
    "print(\"Submission DataFrame field counts:\")\n",
    "print(submissions_df.count(0))\n",
    "print()"
   ],
   "metadata": {
    "collapsed": false
   }
  },
  {
   "cell_type": "markdown",
   "source": [
    "## Synchronizing data between ODK Central and local file system\n",
    "\n",
    "In this next case, we'll synchronize data directly between ODK Central and the local file system. The synchronization process will be efficient, using a stored cursor to only download and store new or updated data, and it will include both submission data and all attachments. As before, we'll load all data into a DataFrame, and here we'll show how to save and reload that DataFrame in case your processing and analysis jobs are separated.\n",
    "\n",
    "In this example, data is synchronized to the `~/Files/surveydata/odk/formid/` folder tree, where `~` refers to the current user's home directory and `formid` is the ODK form ID initialized earlier."
   ],
   "metadata": {
    "collapsed": false
   }
  },
  {
   "cell_type": "code",
   "execution_count": 3,
   "outputs": [
    {
     "name": "stdout",
     "output_type": "stream",
     "text": [
      "Count of new submissions sync'd to storage: 0\n",
      "List of new submissions sync'd to storage: []\n",
      "\n",
      "Submissions in storage: ['uuid:f4a826a1-db80-48f5-97e3-de840e964d9c', 'uuid:f9374882-7671-46fa-87ec-53b516d2b37a', 'uuid:0d70b386-59f7-488e-ab43-fb0bb934a7c8', 'uuid:6a384d76-5547-4bf0-8f50-4f5c873c83c3']\n",
      "\n",
      "Attachments in storage: [{'name': '1666784762837-9_46_21.jpg', 'submission_id': 'uuid:0d70b386-59f7-488e-ab43-fb0bb934a7c8', 'location_string': 'file:/Users/crobert/Files/surveydata/odk/all_fields_for_testing/uuid%3A0d70b386-59f7-488e-ab43-fb0bb934a7c8/1666784762837-9_46_21.jpg'}, {'name': '1666784783763-9_46_25.m4a', 'submission_id': 'uuid:0d70b386-59f7-488e-ab43-fb0bb934a7c8', 'location_string': 'file:/Users/crobert/Files/surveydata/odk/all_fields_for_testing/uuid%3A0d70b386-59f7-488e-ab43-fb0bb934a7c8/1666784783763-9_46_25.m4a'}, {'name': 'ChrisExample_public-9_46_36.pem', 'submission_id': 'uuid:0d70b386-59f7-488e-ab43-fb0bb934a7c8', 'location_string': 'file:/Users/crobert/Files/surveydata/odk/all_fields_for_testing/uuid%3A0d70b386-59f7-488e-ab43-fb0bb934a7c8/ChrisExample_public-9_46_36.pem'}]\n",
      "\n",
      "Submission DataFrame field counts:\n",
      "starttime                                4\n",
      "endtime                                  4\n",
      "deviceid                                 4\n",
      "devicephonenum                           4\n",
      "username                                 4\n",
      "                                        ..\n",
      "qrepeat1/0/qrepeat2/1/qselectmultiple    1\n",
      "qrepeat1/1/qrepeat2/0/qyesno             1\n",
      "qrepeat1/1/qrepeat2/0/qselectmultiple    0\n",
      "qrepeat1/1/qrepeat2/1/qyesno             1\n",
      "qrepeat1/1/qrepeat2/1/qselectmultiple    1\n",
      "Length: 71, dtype: int64\n",
      "\n"
     ]
    }
   ],
   "source": [
    "from surveydata import ODKPlatform\n",
    "from surveydata import FileStorage\n",
    "\n",
    "# initialize the survey platform connection\n",
    "platform = ODKPlatform(config_file=os.path.expanduser(\"~/.ocl/.pyodk_config.toml\"), project_id=project_id, form_id=form_id)\n",
    "\n",
    "# initialize the local file storage location\n",
    "storage = FileStorage(os.path.expanduser(\"~/Files/surveydata/odk/\" + form_id + \"/\"))\n",
    "\n",
    "# synchronize data to ensure storage is up-to-date\n",
    "new_submissions = platform.sync_data(storage, include_rejected=False)\n",
    "print(f\"Count of new submissions sync'd to storage: {len(new_submissions)}\")\n",
    "print(f\"List of new submissions sync'd to storage: {new_submissions}\")\n",
    "print()\n",
    "\n",
    "# output details about what's present in storage\n",
    "print(f\"Submissions in storage: {storage.list_submissions()}\")\n",
    "print()\n",
    "print(f\"Attachments in storage: {storage.list_attachments()}\")\n",
    "print()\n",
    "\n",
    "# load all submissions into DataFrame and describe contents\n",
    "submissions_df = ODKPlatform.get_submissions_df(storage)\n",
    "print(\"Submission DataFrame field counts:\")\n",
    "print(submissions_df.count(0))\n",
    "print()\n",
    "\n",
    "# save DataFrame for other Python code to access (retains all DataFrame properties)\n",
    "storage.store_dataframe(\"__ALL_DATA_DF__\", submissions_df)\n",
    "# example of how to reload the saved DataFrame\n",
    "submissions_df_from_storage = storage.get_dataframe(\"__ALL_DATA_DF__\")\n",
    "\n",
    "# save DataFrame as a .csv file for others to access (doesn't retain all DataFrame properties)\n",
    "storage.store_dataframe_csv(\"__ALL_DATA_CSV__\", submissions_df)\n",
    "# example of how to reload saved .csv into a DataFrame\n",
    "submissions_df_from_csv = storage.get_dataframe_csv(\"__ALL_DATA_CSV__\")"
   ],
   "metadata": {
    "collapsed": false
   }
  },
  {
   "cell_type": "markdown",
   "source": [
    "## Synchronizing data between ODK and S3\n",
    "\n",
    "In this next case, we'll synchronize data directly between ODK and S3. The synchronization process will be efficient, using a stored cursor to only download and store new or updated data, and it will include both submission data and all attachments. As before, we'll load all data into a DataFrame, and we'll show how to save and reload that DataFrame in case your processing and analysis jobs are separated.\n",
    "\n",
    "The AWS credentials and S3 bucket name will also be as loaded earlier. We recommend creating a new programmatic-access AWS user with limited access to the appropriate S3 bucket. In the example, all data is stored within the `surveydata/odk/formid/` folder, where `formid` is the ODK form ID initialized earlier. This allows data from multiple forms to be safely stored within the same S3 bucket."
   ],
   "metadata": {
    "collapsed": false
   }
  },
  {
   "cell_type": "code",
   "execution_count": 4,
   "outputs": [
    {
     "name": "stdout",
     "output_type": "stream",
     "text": [
      "Count of new submissions sync'd to storage: 0\n",
      "List of new submissions sync'd to storage: []\n",
      "\n",
      "Submissions in storage: ['uuid:0d70b386-59f7-488e-ab43-fb0bb934a7c8', 'uuid:6a384d76-5547-4bf0-8f50-4f5c873c83c3', 'uuid:f4a826a1-db80-48f5-97e3-de840e964d9c', 'uuid:f9374882-7671-46fa-87ec-53b516d2b37a']\n",
      "\n",
      "Attachments in storage: [{'name': '1666784762837-9_46_21.jpg', 'submission_id': 'uuid:0d70b386-59f7-488e-ab43-fb0bb934a7c8', 'location_string': 's3:surveydata/odk/all_fields_for_testing/uuid%3A0d70b386-59f7-488e-ab43-fb0bb934a7c8/1666784762837-9_46_21.jpg'}, {'name': '1666784783763-9_46_25.m4a', 'submission_id': 'uuid:0d70b386-59f7-488e-ab43-fb0bb934a7c8', 'location_string': 's3:surveydata/odk/all_fields_for_testing/uuid%3A0d70b386-59f7-488e-ab43-fb0bb934a7c8/1666784783763-9_46_25.m4a'}, {'name': 'ChrisExample_public-9_46_36.pem', 'submission_id': 'uuid:0d70b386-59f7-488e-ab43-fb0bb934a7c8', 'location_string': 's3:surveydata/odk/all_fields_for_testing/uuid%3A0d70b386-59f7-488e-ab43-fb0bb934a7c8/ChrisExample_public-9_46_36.pem'}]\n",
      "\n",
      "Submission DataFrame field counts:\n",
      "starttime                                4\n",
      "endtime                                  4\n",
      "deviceid                                 4\n",
      "devicephonenum                           4\n",
      "username                                 4\n",
      "                                        ..\n",
      "qrepeat1/0/qrepeat2/1/qselectmultiple    1\n",
      "qrepeat1/1/qrepeat2/0/qyesno             1\n",
      "qrepeat1/1/qrepeat2/0/qselectmultiple    0\n",
      "qrepeat1/1/qrepeat2/1/qyesno             1\n",
      "qrepeat1/1/qrepeat2/1/qselectmultiple    1\n",
      "Length: 71, dtype: int64\n",
      "\n"
     ]
    }
   ],
   "source": [
    "from surveydata import ODKPlatform\n",
    "from surveydata import S3Storage\n",
    "\n",
    "# initialize the survey platform connection\n",
    "platform = ODKPlatform(config_file=os.path.expanduser(\"~/.ocl/.pyodk_config.toml\"), project_id=project_id, form_id=form_id)\n",
    "\n",
    "# initialize the S3 storage connection\n",
    "storage = S3Storage(s3_bucketname, key_name_prefix=\"surveydata/odk/\" + form_id + \"/\", aws_access_key_id=aws_accesskey_id, aws_secret_access_key=aws_accesskey_secret)\n",
    "\n",
    "# synchronize data to ensure storage is up-to-date\n",
    "new_submissions = platform.sync_data(storage)\n",
    "print(f\"Count of new submissions sync'd to storage: {len(new_submissions)}\")\n",
    "print(f\"List of new submissions sync'd to storage: {new_submissions}\")\n",
    "print()\n",
    "\n",
    "# output details about what's present in storage\n",
    "print(f\"Submissions in storage: {storage.list_submissions()}\")\n",
    "print()\n",
    "print(f\"Attachments in storage: {storage.list_attachments()}\")\n",
    "print()\n",
    "\n",
    "# load all submissions into DataFrame and describe contents\n",
    "submissions_df = ODKPlatform.get_submissions_df(storage)\n",
    "print(\"Submission DataFrame field counts:\")\n",
    "print(submissions_df.count(0))\n",
    "print()\n",
    "\n",
    "# save DataFrame for other Python code to access (retains all DataFrame properties)\n",
    "storage.store_dataframe(\"__ALL_DATA_DF__\", submissions_df)\n",
    "# example of how to reload the saved DataFrame\n",
    "submissions_df_from_storage = storage.get_dataframe(\"__ALL_DATA_DF__\")\n",
    "\n",
    "# save DataFrame as a .csv file for others to access (doesn't retain all DataFrame properties)\n",
    "storage.store_dataframe_csv(\"__ALL_DATA_CSV__\", submissions_df)\n",
    "# example of how to reload saved .csv into a DataFrame\n",
    "submissions_df_from_csv = storage.get_dataframe_csv(\"__ALL_DATA_CSV__\")"
   ],
   "metadata": {
    "collapsed": false
   }
  },
  {
   "cell_type": "markdown",
   "source": [
    "## Synchronizing data between ODK and DynamoDB+S3\n",
    "\n",
    "In this next case, we'll synchronize data directly between ODK and DynamoDB+S3, storing the submission data in DynamoDB and all attachments in S3. The synchronization process will be efficient, using a stored cursor to only download and store new or updated data, and it will include both submission data and all attachments. As before, we'll load all data into a DataFrame.\n",
    "\n",
    "The AWS credentials, DynamoDB table name, and S3 bucket name will also be as loaded earlier. We recommend creating a new programmatic-access AWS user with limited access to the appropriate DynamoDB table and S3 bucket. In this example, all data is stored within the `{FormID: formid}` DynamoDB partition, where `formid` is the ODK form ID initialized earlier; all attachments are stored within the `surveydata/odk/attachments/formid/` folder in the S3 bucket."
   ],
   "metadata": {
    "collapsed": false
   }
  },
  {
   "cell_type": "code",
   "execution_count": 5,
   "outputs": [
    {
     "name": "stdout",
     "output_type": "stream",
     "text": [
      "Count of new submissions sync'd to storage: 0\n",
      "List of new submissions sync'd to storage: []\n",
      "\n",
      "Submissions in storage: ['uuid:0d70b386-59f7-488e-ab43-fb0bb934a7c8', 'uuid:6a384d76-5547-4bf0-8f50-4f5c873c83c3', 'uuid:f4a826a1-db80-48f5-97e3-de840e964d9c', 'uuid:f9374882-7671-46fa-87ec-53b516d2b37a']\n",
      "\n",
      "Attachments in storage: [{'name': '1666784762837-9_46_21.jpg', 'submission_id': 'uuid:0d70b386-59f7-488e-ab43-fb0bb934a7c8', 'location_string': 's3:surveydata/odk/attachments/all_fields_for_testing/uuid%3A0d70b386-59f7-488e-ab43-fb0bb934a7c8/1666784762837-9_46_21.jpg'}, {'name': '1666784783763-9_46_25.m4a', 'submission_id': 'uuid:0d70b386-59f7-488e-ab43-fb0bb934a7c8', 'location_string': 's3:surveydata/odk/attachments/all_fields_for_testing/uuid%3A0d70b386-59f7-488e-ab43-fb0bb934a7c8/1666784783763-9_46_25.m4a'}, {'name': 'ChrisExample_public-9_46_36.pem', 'submission_id': 'uuid:0d70b386-59f7-488e-ab43-fb0bb934a7c8', 'location_string': 's3:surveydata/odk/attachments/all_fields_for_testing/uuid%3A0d70b386-59f7-488e-ab43-fb0bb934a7c8/ChrisExample_public-9_46_36.pem'}]\n",
      "\n",
      "Submission DataFrame field counts:\n",
      "qgeoshape/coordinates/0/2/2     1\n",
      "qaudio                          1\n",
      "qgeoshape/coordinates/0/2/1     1\n",
      "qvideo                          0\n",
      "qgeoshape/coordinates/0/0/2     1\n",
      "                               ..\n",
      "qrepeat1/1/qrepeat2/0/qyesno    1\n",
      "__system/formVersion            4\n",
      "qtime                           1\n",
      "__system/attachmentsPresent     4\n",
      "qimage                          1\n",
      "Length: 72, dtype: int64\n",
      "\n"
     ]
    }
   ],
   "source": [
    "from surveydata import S3Storage\n",
    "from surveydata import DynamoDBStorage\n",
    "from surveydata import ODKPlatform\n",
    "\n",
    "# initialize the survey platform connection\n",
    "platform = ODKPlatform(config_file=os.path.expanduser(\"~/.ocl/.pyodk_config.toml\"), project_id=project_id, form_id=form_id)\n",
    "\n",
    "# initialize DynamoDB storage for submission data\n",
    "storage = DynamoDBStorage(aws_region=aws_region, table_name=ddb_tablename + \"-odk\", id_field_name=\"KEY\", partition_key_name=\"FormID\", partition_key_value=form_id, aws_access_key_id=aws_accesskey_id, aws_secret_access_key=aws_accesskey_secret)\n",
    "# initialize S3 storage for attachments\n",
    "file_storage = S3Storage(s3_bucketname, key_name_prefix=\"surveydata/odk/attachments/\" + form_id + \"/\", aws_access_key_id=aws_accesskey_id, aws_secret_access_key=aws_accesskey_secret)\n",
    "\n",
    "# synchronize data to ensure storage is up-to-date\n",
    "new_submissions = platform.sync_data(storage=storage, attachment_storage=file_storage)\n",
    "print(f\"Count of new submissions sync'd to storage: {len(new_submissions)}\")\n",
    "print(f\"List of new submissions sync'd to storage: {new_submissions}\")\n",
    "print()\n",
    "\n",
    "# output details about what's present in storage\n",
    "print(f\"Submissions in storage: {storage.list_submissions()}\")\n",
    "print()\n",
    "print(f\"Attachments in storage: {file_storage.list_attachments()}\")\n",
    "print()\n",
    "\n",
    "# load all submissions into DataFrame and describe contents\n",
    "submissions_df = ODKPlatform.get_submissions_df(storage)\n",
    "print(\"Submission DataFrame field counts:\")\n",
    "print(submissions_df.count(0))\n",
    "print()"
   ],
   "metadata": {
    "collapsed": false
   }
  },
  {
   "cell_type": "markdown",
   "source": [
    "## Synchronizing data between ODK and Google Cloud Storage\n",
    "\n",
    "In this next case, we'll synchronize data directly between ODK and Google Cloud Storage. The synchronization process will be efficient, using a stored cursor to only download and store new or updated data, and it will include both submission data and all attachments. As before, we'll load all data into a DataFrame, and we'll show how to save and reload that DataFrame in case your processing and analysis jobs are separated.\n",
    "\n",
    "The Google project ID, bucket name, and credentials will also be as loaded earlier. We recommend creating a new service account with limited access to the appropriate bucket. In the example, all data is stored within the `surveydata/odk/formid/` folder, where `formid` is the ODK form ID initialized earlier. This allows data from multiple forms to be safely stored within the same bucket."
   ],
   "metadata": {
    "collapsed": false
   }
  },
  {
   "cell_type": "code",
   "execution_count": 6,
   "outputs": [
    {
     "name": "stdout",
     "output_type": "stream",
     "text": [
      "Count of new submissions sync'd to storage: 0\n",
      "List of new submissions sync'd to storage: []\n",
      "\n",
      "Submissions in storage: ['uuid:0d70b386-59f7-488e-ab43-fb0bb934a7c8', 'uuid:6a384d76-5547-4bf0-8f50-4f5c873c83c3', 'uuid:f4a826a1-db80-48f5-97e3-de840e964d9c', 'uuid:f9374882-7671-46fa-87ec-53b516d2b37a']\n",
      "\n",
      "Attachments in storage: [{'name': '1666784762837-9_46_21.jpg', 'submission_id': 'uuid:0d70b386-59f7-488e-ab43-fb0bb934a7c8', 'location_string': 'gs:surveydata/odk/all_fields_for_testing/uuid%3A0d70b386-59f7-488e-ab43-fb0bb934a7c8/1666784762837-9_46_21.jpg'}, {'name': '1666784783763-9_46_25.m4a', 'submission_id': 'uuid:0d70b386-59f7-488e-ab43-fb0bb934a7c8', 'location_string': 'gs:surveydata/odk/all_fields_for_testing/uuid%3A0d70b386-59f7-488e-ab43-fb0bb934a7c8/1666784783763-9_46_25.m4a'}, {'name': 'ChrisExample_public-9_46_36.pem', 'submission_id': 'uuid:0d70b386-59f7-488e-ab43-fb0bb934a7c8', 'location_string': 'gs:surveydata/odk/all_fields_for_testing/uuid%3A0d70b386-59f7-488e-ab43-fb0bb934a7c8/ChrisExample_public-9_46_36.pem'}]\n",
      "\n",
      "Submission DataFrame field counts:\n",
      "starttime                                4\n",
      "endtime                                  4\n",
      "deviceid                                 4\n",
      "devicephonenum                           4\n",
      "username                                 4\n",
      "                                        ..\n",
      "qrepeat1/0/qrepeat2/1/qselectmultiple    1\n",
      "qrepeat1/1/qrepeat2/0/qyesno             1\n",
      "qrepeat1/1/qrepeat2/0/qselectmultiple    0\n",
      "qrepeat1/1/qrepeat2/1/qyesno             1\n",
      "qrepeat1/1/qrepeat2/1/qselectmultiple    1\n",
      "Length: 71, dtype: int64\n",
      "\n"
     ]
    }
   ],
   "source": [
    "from surveydata import ODKPlatform\n",
    "from surveydata import GoogleCloudStorage\n",
    "\n",
    "# initialize the survey platform connection\n",
    "platform = ODKPlatform(config_file=os.path.expanduser(\"~/.ocl/.pyodk_config.toml\"), project_id=project_id, form_id=form_id)\n",
    "\n",
    "# initialize the Google Cloud Storage connection\n",
    "storage = GoogleCloudStorage(project_id=google_project_id, bucket_name=google_bucket_name, blob_name_prefix=\"surveydata/odk/\" + form_id + \"/\", credentials=google_credentials)\n",
    "\n",
    "# synchronize data to ensure storage is up-to-date\n",
    "new_submissions = platform.sync_data(storage)\n",
    "print(f\"Count of new submissions sync'd to storage: {len(new_submissions)}\")\n",
    "print(f\"List of new submissions sync'd to storage: {new_submissions}\")\n",
    "print()\n",
    "\n",
    "# output details about what's present in storage\n",
    "print(f\"Submissions in storage: {storage.list_submissions()}\")\n",
    "print()\n",
    "print(f\"Attachments in storage: {storage.list_attachments()}\")\n",
    "print()\n",
    "\n",
    "# load all submissions into DataFrame and describe contents\n",
    "submissions_df = ODKPlatform.get_submissions_df(storage)\n",
    "print(\"Submission DataFrame field counts:\")\n",
    "print(submissions_df.count(0))\n",
    "print()\n",
    "\n",
    "# save DataFrame for other Python code to access (retains all DataFrame properties)\n",
    "storage.store_dataframe(\"__ALL_DATA_DF__\", submissions_df)\n",
    "# example of how to reload the saved DataFrame\n",
    "submissions_df_from_storage = storage.get_dataframe(\"__ALL_DATA_DF__\")\n",
    "\n",
    "# save DataFrame as a .csv file for others to access (doesn't retain all DataFrame properties)\n",
    "storage.store_dataframe_csv(\"__ALL_DATA_CSV__\", submissions_df)\n",
    "# example of how to reload saved .csv into a DataFrame\n",
    "submissions_df_from_csv = storage.get_dataframe_csv(\"__ALL_DATA_CSV__\")"
   ],
   "metadata": {
    "collapsed": false
   }
  },
  {
   "cell_type": "markdown",
   "source": [
    "## Synchronizing data between ODK and Azure Blob Storage\n",
    "\n",
    "In this next case, we'll synchronize data directly between ODK and Azure Blob Storage. The synchronization process will be efficient, using a stored cursor to only download and store new or updated data, and it will include both submission data and all attachments. As before, we'll load all data into a DataFrame, and we'll show how to save and reload that DataFrame in case your processing and analysis jobs are separated.\n",
    "\n",
    "The Azure connection string and container name will also be as loaded earlier. While this example uses a connection string to authenticate, passwordless authentication is also supported if you log in first and then pass `account_url` to the `AzureBlobStorage` constructor. In the example, all data is stored within the `surveydata/odk/formid/` folder, where `formid` is the ODK form ID initialized earlier. This allows data from multiple forms to be safely stored within the same container."
   ],
   "metadata": {
    "collapsed": false
   }
  },
  {
   "cell_type": "code",
   "execution_count": 7,
   "outputs": [
    {
     "name": "stdout",
     "output_type": "stream",
     "text": [
      "Count of new submissions sync'd to storage: 0\n",
      "List of new submissions sync'd to storage: []\n",
      "\n",
      "Submissions in storage: ['uuid:0d70b386-59f7-488e-ab43-fb0bb934a7c8', 'uuid:6a384d76-5547-4bf0-8f50-4f5c873c83c3', 'uuid:f4a826a1-db80-48f5-97e3-de840e964d9c', 'uuid:f9374882-7671-46fa-87ec-53b516d2b37a']\n",
      "\n",
      "Attachments in storage: [{'name': '1666784762837-9_46_21.jpg', 'submission_id': 'uuid:0d70b386-59f7-488e-ab43-fb0bb934a7c8', 'location_string': 'abs:surveydata/odk/all_fields_for_testing/uuid%3A0d70b386-59f7-488e-ab43-fb0bb934a7c8/1666784762837-9_46_21.jpg'}, {'name': '1666784783763-9_46_25.m4a', 'submission_id': 'uuid:0d70b386-59f7-488e-ab43-fb0bb934a7c8', 'location_string': 'abs:surveydata/odk/all_fields_for_testing/uuid%3A0d70b386-59f7-488e-ab43-fb0bb934a7c8/1666784783763-9_46_25.m4a'}, {'name': 'ChrisExample_public-9_46_36.pem', 'submission_id': 'uuid:0d70b386-59f7-488e-ab43-fb0bb934a7c8', 'location_string': 'abs:surveydata/odk/all_fields_for_testing/uuid%3A0d70b386-59f7-488e-ab43-fb0bb934a7c8/ChrisExample_public-9_46_36.pem'}]\n",
      "\n",
      "Submission DataFrame field counts:\n",
      "starttime                                4\n",
      "endtime                                  4\n",
      "deviceid                                 4\n",
      "devicephonenum                           4\n",
      "username                                 4\n",
      "                                        ..\n",
      "qrepeat1/0/qrepeat2/1/qselectmultiple    1\n",
      "qrepeat1/1/qrepeat2/0/qyesno             1\n",
      "qrepeat1/1/qrepeat2/0/qselectmultiple    0\n",
      "qrepeat1/1/qrepeat2/1/qyesno             1\n",
      "qrepeat1/1/qrepeat2/1/qselectmultiple    1\n",
      "Length: 71, dtype: int64\n",
      "\n"
     ]
    }
   ],
   "source": [
    "from surveydata import ODKPlatform\n",
    "from surveydata import AzureBlobStorage\n",
    "\n",
    "# initialize the survey platform connection\n",
    "platform = ODKPlatform(config_file=os.path.expanduser(\"~/.ocl/.pyodk_config.toml\"), project_id=project_id, form_id=form_id)\n",
    "\n",
    "# initialize the Google Cloud Storage connection\n",
    "storage = AzureBlobStorage(container_name=azure_container_name, blob_name_prefix=\"surveydata/odk/\" + form_id + \"/\", connection_string=azure_connection_string)\n",
    "\n",
    "# synchronize data to ensure storage is up-to-date\n",
    "new_submissions = platform.sync_data(storage)\n",
    "print(f\"Count of new submissions sync'd to storage: {len(new_submissions)}\")\n",
    "print(f\"List of new submissions sync'd to storage: {new_submissions}\")\n",
    "print()\n",
    "\n",
    "# output details about what's present in storage\n",
    "print(f\"Submissions in storage: {storage.list_submissions()}\")\n",
    "print()\n",
    "print(f\"Attachments in storage: {storage.list_attachments()}\")\n",
    "print()\n",
    "\n",
    "# load all submissions into DataFrame and describe contents\n",
    "submissions_df = ODKPlatform.get_submissions_df(storage)\n",
    "print(\"Submission DataFrame field counts:\")\n",
    "print(submissions_df.count(0))\n",
    "print()\n",
    "\n",
    "# save DataFrame for other Python code to access (retains all DataFrame properties)\n",
    "storage.store_dataframe(\"__ALL_DATA_DF__\", submissions_df)\n",
    "# example of how to reload the saved DataFrame\n",
    "submissions_df_from_storage = storage.get_dataframe(\"__ALL_DATA_DF__\")\n",
    "\n",
    "# save DataFrame as a .csv file for others to access (doesn't retain all DataFrame properties)\n",
    "storage.store_dataframe_csv(\"__ALL_DATA_CSV__\", submissions_df)\n",
    "# example of how to reload saved .csv into a DataFrame\n",
    "submissions_df_from_csv = storage.get_dataframe_csv(\"__ALL_DATA_CSV__\")"
   ],
   "metadata": {
    "collapsed": false
   }
  }
 ],
 "metadata": {
  "kernelspec": {
   "display_name": "Python 3",
   "language": "python",
   "name": "python3"
  },
  "language_info": {
   "codemirror_mode": {
    "name": "ipython",
    "version": 2
   },
   "file_extension": ".py",
   "mimetype": "text/x-python",
   "name": "python",
   "nbconvert_exporter": "python",
   "pygments_lexer": "ipython2",
   "version": "2.7.6"
  }
 },
 "nbformat": 4,
 "nbformat_minor": 0
}
